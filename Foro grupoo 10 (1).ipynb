{
 "cells": [
  {
   "cell_type": "code",
   "execution_count": null,
   "id": "8c57eee3",
   "metadata": {},
   "outputs": [],
   "source": [
    "Integrantes:\n",
    "    - Alexander Jesus Cristobal Prado 20191299\n",
    "    - Juan Lord Silva Ugaz 20191315\n",
    "    - Luis Francisco Vargas GuisadO 20191218"
   ]
  },
  {
   "cell_type": "code",
   "execution_count": 31,
   "id": "c9abdc4e",
   "metadata": {},
   "outputs": [
    {
     "data": {
      "text/plain": [
       "'{\"copyright\":\"Egon Filter\",\"date\":\"2021-09-13\",\"explanation\":\"What\\'s that in the mirror? In the featured image of the dark southern sky, the three brightest galaxies of the night are all relatively easy to identify. Starting from the left, these are the Small Magellanic Cloud (SMC), the Large Magellanic Cloud (LMC), and part of the central band of our Milky Way Galaxy. All three are also seen reflected in a shallow pool of water. But what is seen in the mirror being positioned by the playful astrophotographer? Dust clouds near the center of our Milky Way -- and the planet Jupiter.  The composite was carefully planned and composed from images captured from the same camera in the same location and during the same night in mid-2019 in Mostardas, south Brazil.  The picture won first place in the Connecting to the Dark division of the International Dark-Sky Association\\'s Capture the Dark contest for 2021.   Quiz: What is pictured in the double-reflection below the main mirror?\",\"hdurl\":\"https://apod.nasa.gov/apod/image/2109/GalaxySkyMirror_Egon_2048.jpg\",\"media_type\":\"image\",\"service_version\":\"v1\",\"title\":\"Night Sky Reflected\",\"url\":\"https://apod.nasa.gov/apod/image/2109/GalaxySkyMirror_Egon_960.jpg\"}\\n'"
      ]
     },
     "execution_count": 31,
     "metadata": {},
     "output_type": "execute_result"
    }
   ],
   "source": [
    "from urllib.request import urlopen\n",
    "import numpy as np\n",
    "import matplotlib.pyplot as ptl\n",
    "import seaborn as sns\n",
    "from bs4 import BeautifulSoup as soup\n",
    "import requests\n",
    "import json\n",
    "\n",
    "apikey=\"rMCVArFBwgDazHDSznMYhToYnUdYLojSKuwXrHtw\"\n",
    "\n",
    "url=\"https://api.nasa.gov/planetary/apod?api_key=rMCVArFBwgDazHDSznMYhToYnUdYLojSKuwXrHtw\"\n",
    "    \n",
    "   \n",
    "uclient=urlopen(url)\n",
    "responsehtml=uclient.read()\n",
    "uclient.close()\n",
    "data = responsehtml.decode()\n",
    "data\n",
    "\n",
    "# Leeemos el apikey "
   ]
  },
  {
   "cell_type": "code",
   "execution_count": 25,
   "id": "612aa38c",
   "metadata": {},
   "outputs": [
    {
     "name": "stdout",
     "output_type": "stream",
     "text": [
      "<class 'dict'>\n"
     ]
    },
    {
     "data": {
      "text/plain": [
       "dict_keys(['copyright', 'date', 'explanation', 'hdurl', 'media_type', 'service_version', 'title', 'url'])"
      ]
     },
     "execution_count": 25,
     "metadata": {},
     "output_type": "execute_result"
    }
   ],
   "source": [
    "info = json.loads(data)\n",
    "print(type(info))\n",
    "info.keys()\n",
    "# Obtenemos los grupos de la url"
   ]
  },
  {
   "cell_type": "code",
   "execution_count": 44,
   "id": "57f53622",
   "metadata": {},
   "outputs": [
    {
     "name": "stdout",
     "output_type": "stream",
     "text": [
      "Egon Filter\n",
      "2021-09-13\n",
      "What's that in the mirror? In the featured image of the dark southern sky, the three brightest galaxies of the night are all relatively easy to identify. Starting from the left, these are the Small Magellanic Cloud (SMC), the Large Magellanic Cloud (LMC), and part of the central band of our Milky Way Galaxy. All three are also seen reflected in a shallow pool of water. But what is seen in the mirror being positioned by the playful astrophotographer? Dust clouds near the center of our Milky Way -- and the planet Jupiter.  The composite was carefully planned and composed from images captured from the same camera in the same location and during the same night in mid-2019 in Mostardas, south Brazil.  The picture won first place in the Connecting to the Dark division of the International Dark-Sky Association's Capture the Dark contest for 2021.   Quiz: What is pictured in the double-reflection below the main mirror?\n",
      "https://apod.nasa.gov/apod/image/2109/GalaxySkyMirror_Egon_2048.jpg\n",
      "image\n",
      "v1\n",
      "Night Sky Reflected\n",
      "https://apod.nasa.gov/apod/image/2109/GalaxySkyMirror_Egon_960.jpg\n"
     ]
    }
   ],
   "source": [
    "c=(['copyright', 'date', 'explanation', 'hdurl', 'media_type', 'service_version', 'title', 'url'])\n",
    "\n",
    "# Esta funcion nos ayuda a sacar la informacion de cada uno de los grupos de c\n",
    "count=0\n",
    "for i in c:\n",
    "    if count<9:\n",
    "        print(info[i])\n",
    "    else:\n",
    "        break\n",
    "    count+=1\n",
    "\n",
    "# Extraemos la informacion sobre cada grupo"
   ]
  },
  {
   "cell_type": "markdown",
   "id": "e679abf4",
   "metadata": {},
   "source": [
    "# Creamos un texto con NotebookMarkdown"
   ]
  },
  {
   "cell_type": "markdown",
   "id": "1c8894dc",
   "metadata": {},
   "source": [
    "# Egon Filter\n",
    "## 2021-09-13\n",
    "\n",
    "What's that in the mirror? In the featured image of the dark southern sky, the three brightest galaxies of the night are all relatively easy to identify. Starting from the left, these are the Small Magellanic Cloud (SMC), the Large Magellanic Cloud (LMC), and part of the central band of our Milky Way Galaxy. All three are also seen reflected in a shallow pool of water. But what is seen in the mirror being positioned by the playful astrophotographer? Dust clouds near the center of our Milky Way -- and the planet Jupiter.  The composite was carefully planned and composed from images captured from the same camera in the same location and during the same night in mid-2019 in Mostardas, south Brazil.  The picture won first place in the Connecting to the Dark division of the International Dark-Sky Association's Capture the Dark contest for 2021.   Quiz: What is pictured in the double-reflection below the main mirror?\n",
    "\n",
    "## <u>Traducido:</u>\n",
    "¿Qué es eso en el espejo? En la imagen destacada del oscuro cielo del sur, las tres galaxias más brillantes de la noche son relativamente fáciles de identificar. Empezando por la izquierda, se trata de la Pequeña Nube de Magallanes (SMC), la Gran Nube de Magallanes (LMC) y parte de la banda central de nuestra Vía Láctea. Los tres también se ven reflejados en un charco de agua poco profundo. Pero, ¿qué se ve en el espejo que coloca el juguetón astrofotógrafo? Nubes de polvo cerca del centro de nuestra Vía Láctea y del planeta Júpiter. La composición fue cuidadosamente planificada y compuesta a partir de imágenes capturadas con la misma cámara en el mismo lugar y durante la misma noche a mediados de 2019 en Mostardas, sur de Brasil. La imagen ganó el primer lugar en la división Conectando a la oscuridad del concurso Capture the Dark de la Asociación Internacional de Cielo Oscuro para 2021. Prueba: ¿Qué se muestra en la doble reflexión debajo del espejo principal?\n",
    "\n",
    "![Turing's Device](https://apod.nasa.gov/apod/image/2109/GalaxySkyMirror_Egon_2048.jpg)\n",
    "image\n",
    "v1\n",
    "Night Sky Reflected\n",
    "# Texto creado gracias a la obtencion de datos "
   ]
  },
  {
   "cell_type": "code",
   "execution_count": null,
   "id": "ba34ec0a",
   "metadata": {},
   "outputs": [],
   "source": []
  }
 ],
 "metadata": {
  "kernelspec": {
   "display_name": "Python 3",
   "language": "python",
   "name": "python3"
  },
  "language_info": {
   "codemirror_mode": {
    "name": "ipython",
    "version": 3
   },
   "file_extension": ".py",
   "mimetype": "text/x-python",
   "name": "python",
   "nbconvert_exporter": "python",
   "pygments_lexer": "ipython3",
   "version": "3.8.8"
  }
 },
 "nbformat": 4,
 "nbformat_minor": 5
}
